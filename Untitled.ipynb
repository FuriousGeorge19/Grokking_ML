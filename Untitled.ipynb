{
 "cells": [
  {
   "cell_type": "code",
   "execution_count": 1,
   "metadata": {},
   "outputs": [],
   "source": [
    "import numpy as np"
   ]
  },
  {
   "cell_type": "code",
   "execution_count": 2,
   "metadata": {},
   "outputs": [],
   "source": [
    "A = np.array([[4,-1],[1,2]])"
   ]
  },
  {
   "cell_type": "code",
   "execution_count": 3,
   "metadata": {},
   "outputs": [
    {
     "data": {
      "text/plain": [
       "array([4, 1])"
      ]
     },
     "execution_count": 3,
     "metadata": {},
     "output_type": "execute_result"
    }
   ],
   "source": [
    "v = np.array([1,0])\n",
    "np.dot(A,v)"
   ]
  },
  {
   "cell_type": "code",
   "execution_count": 4,
   "metadata": {},
   "outputs": [
    {
     "name": "stdout",
     "output_type": "stream",
     "text": [
      "[ -9 -10] -> [-26 -29]\n",
      "[-8 -9] -> [-23 -26]\n",
      "[-7 -8] -> [-20 -23]\n",
      "[-6 -7] -> [-17 -20]\n",
      "[-5 -6] -> [-14 -17]\n",
      "[-4 -5] -> [-11 -14]\n",
      "[-3 -4] -> [ -8 -11]\n",
      "[-2 -3] -> [-5 -8]\n",
      "[-1 -2] -> [-2 -5]\n",
      "[ 0 -1] -> [ 1 -2]\n",
      "[1 0] -> [4 1]\n",
      "[2 1] -> [7 4]\n",
      "[3 2] -> [10  7]\n",
      "[4 3] -> [13 10]\n",
      "[5 4] -> [16 13]\n",
      "[6 5] -> [19 16]\n",
      "[7 6] -> [22 19]\n",
      "[8 7] -> [25 22]\n",
      "[9 8] -> [28 25]\n",
      "[10  9] -> [31 28]\n"
     ]
    }
   ],
   "source": [
    "for i in range(-10, 10):\n",
    "    v = np.array([i+1,i])\n",
    "    B = np.dot(A,v)\n",
    "    print(v,'->',B)"
   ]
  },
  {
   "cell_type": "code",
   "execution_count": null,
   "metadata": {},
   "outputs": [],
   "source": []
  }
 ],
 "metadata": {
  "kernelspec": {
   "display_name": "Python 3",
   "language": "python",
   "name": "python3"
  },
  "language_info": {
   "codemirror_mode": {
    "name": "ipython",
    "version": 3
   },
   "file_extension": ".py",
   "mimetype": "text/x-python",
   "name": "python",
   "nbconvert_exporter": "python",
   "pygments_lexer": "ipython3",
   "version": "3.7.6"
  }
 },
 "nbformat": 4,
 "nbformat_minor": 4
}
