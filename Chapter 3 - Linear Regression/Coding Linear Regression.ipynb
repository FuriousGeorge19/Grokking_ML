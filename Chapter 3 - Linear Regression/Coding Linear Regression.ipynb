{
 "cells": [
  {
   "cell_type": "code",
   "execution_count": 1,
   "metadata": {},
   "outputs": [],
   "source": [
    "# Importing packages\n",
    "from matplotlib import pyplot as plt\n",
    "import numpy as np\n",
    "import random"
   ]
  },
  {
   "cell_type": "code",
   "execution_count": 2,
   "metadata": {},
   "outputs": [],
   "source": [
    "# Some functions to plot our points and draw the lines\n",
    "def plot_points(features, labels):\n",
    "    X = np.array(features)\n",
    "    y = np.array(labels)\n",
    "    plt.scatter(X, y)\n",
    "    plt.xlabel('number of rooms')\n",
    "    plt.ylabel('prices')\n",
    "def draw_line(slope, y_intercept, color='grey', linewidth=0.7, starting=0,ending=4):     #G\n",
    "    x = np.linspace(0, 8, 1000)\n",
    "    plt.plot(x, y_intercept + slope*x, linestyle='-', color=color, linewidth=linewidth)"
   ]
  },
  {
   "cell_type": "code",
   "execution_count": 3,
   "metadata": {},
   "outputs": [
    {
     "data": {
      "text/html": [
       "<div>\n",
       "<style scoped>\n",
       "    .dataframe tbody tr th:only-of-type {\n",
       "        vertical-align: middle;\n",
       "    }\n",
       "\n",
       "    .dataframe tbody tr th {\n",
       "        vertical-align: top;\n",
       "    }\n",
       "\n",
       "    .dataframe thead th {\n",
       "        text-align: right;\n",
       "    }\n",
       "</style>\n",
       "<table border=\"1\" class=\"dataframe\">\n",
       "  <thead>\n",
       "    <tr style=\"text-align: right;\">\n",
       "      <th></th>\n",
       "      <th>0</th>\n",
       "      <th>1</th>\n",
       "    </tr>\n",
       "  </thead>\n",
       "  <tbody>\n",
       "    <tr>\n",
       "      <th>0</th>\n",
       "      <td>1</td>\n",
       "      <td>155</td>\n",
       "    </tr>\n",
       "    <tr>\n",
       "      <th>1</th>\n",
       "      <td>2</td>\n",
       "      <td>197</td>\n",
       "    </tr>\n",
       "    <tr>\n",
       "      <th>2</th>\n",
       "      <td>3</td>\n",
       "      <td>244</td>\n",
       "    </tr>\n",
       "    <tr>\n",
       "      <th>3</th>\n",
       "      <td>5</td>\n",
       "      <td>356</td>\n",
       "    </tr>\n",
       "    <tr>\n",
       "      <th>4</th>\n",
       "      <td>6</td>\n",
       "      <td>407</td>\n",
       "    </tr>\n",
       "    <tr>\n",
       "      <th>5</th>\n",
       "      <td>7</td>\n",
       "      <td>448</td>\n",
       "    </tr>\n",
       "  </tbody>\n",
       "</table>\n",
       "</div>"
      ],
      "text/plain": [
       "   0    1\n",
       "0  1  155\n",
       "1  2  197\n",
       "2  3  244\n",
       "3  5  356\n",
       "4  6  407\n",
       "5  7  448"
      ]
     },
     "execution_count": 3,
     "metadata": {},
     "output_type": "execute_result"
    }
   ],
   "source": [
    "import pandas as pd\n",
    "features = pd.Series([1,2,3,5,6,7])\n",
    "labels = pd.Series([155, 197, 244, 356,407,448])\n",
    "pd.concat([features, labels], axis=1)"
   ]
  },
  {
   "cell_type": "code",
   "execution_count": 9,
   "metadata": {},
   "outputs": [
    {
     "data": {
      "image/png": "[encoded data removed]",
      "text/plain": [
       "<Figure size 432x288 with 1 Axes>"
      ]
     },
     "metadata": {
      "needs_background": "light"
     },
     "output_type": "display_data"
    }
   ],
   "source": [
    "plt.ylim(0,500)\n",
    "plot_points(features, labels)"
   ]
  },
  {
   "cell_type": "code",
   "execution_count": 10,
   "metadata": {},
   "outputs": [],
   "source": [
    "def simple_trick(base_price, price_per_room, num_rooms, price, learning_rate):\n",
    "    predicted_price = base_price + price_per_room*num_rooms\n",
    "    if price > predicted_price and num_rooms > 0:\n",
    "        price_per_room += learning_rate\n",
    "        base_price += learning_rate\n",
    "    if price > predicted_price and num_rooms < 0:\n",
    "        price_per_room -= learning_rate\n",
    "        base_price += learning_rate\n",
    "    if price < predicted_price and num_rooms > 0:\n",
    "        price_per_room -= learning_rate\n",
    "        base_price -= learning_rate\n",
    "    if price < predicted_price and num_rooms < 0:\n",
    "        price_per_room -= learning_rate\n",
    "        base_price += learning_rate\n",
    "    return price_per_room, base_price"
   ]
  },
  {
   "cell_type": "code",
   "execution_count": 11,
   "metadata": {},
   "outputs": [],
   "source": [
    "def absolute_trick(base_price, price_per_room, num_rooms, price, learning_rate):\n",
    "    predicted_price = base_price + price_per_room*num_rooms\n",
    "    if price > predicted_price:\n",
    "        price_per_room += learning_rate*num_rooms\n",
    "        base_price += learning_rate\n",
    "    else:\n",
    "        price_per_room -= learning_rate*num_rooms\n",
    "        base_price -= learning_rate\n",
    "    return price_per_room, base_price"
   ]
  },
  {
   "cell_type": "code",
   "execution_count": 12,
   "metadata": {},
   "outputs": [],
   "source": [
    "def square_trick(base_price, price_per_room, num_rooms, price, learning_rate):\n",
    "    predicted_price = base_price + price_per_room*num_rooms\n",
    "    price_per_room += learning_rate*num_rooms*(price-predicted_price)\n",
    "    base_price += learning_rate*(price-predicted_price)\n",
    "    return price_per_room, base_price"
   ]
  },
  {
   "cell_type": "code",
   "execution_count": 15,
   "metadata": {},
   "outputs": [
    {
     "name": "stdout",
     "output_type": "stream",
     "text": [
      "Price per room: 51.05347808556453\n",
      "Base price: 99.0970202799414\n"
     ]
    },
    {
     "data": {
      "text/plain": [
       "(51.05347808556453, 99.0970202799414)"
      ]
     },
     "execution_count": 15,
     "metadata": {},
     "output_type": "execute_result"
    },
    {
     "data": {
      "image/png": "[encoded data removed]",
      "text/plain": [
       "<Figure size 432x288 with 1 Axes>"
      ]
     },
     "metadata": {
      "needs_background": "light"
     },
     "output_type": "display_data"
    }
   ],
   "source": [
    "import random as rd\n",
    "random.seed(0)\n",
    "def linear_regression(features, labels, learning_rate=0.01, epochs = 1000):\n",
    "    price_per_room = random.random()\n",
    "    base_price = random.random()\n",
    "    for i in range(epochs):\n",
    "        # Uncomment any of the following lines to plot \n",
    "        #if i == 1:\n",
    "        #if i <= 10:\n",
    "        #if i <= 50:\n",
    "        #if i > 50:\n",
    "        #if i > 50 and i % (epochs/20) == 0: # only printing 1000 lines\n",
    "        #    draw_line(price_per_room, base_price)\n",
    "        i = random.randint(0, len(features)-1)\n",
    "        num_rooms = features[i]\n",
    "        price = labels[i]\n",
    "        # Uncomment any of the following lines to use a different trick\n",
    "        # price_per_room, base_price = simple_trick(base_price,\n",
    "        # price_per_room, base_price = absolute_trick(base_price,\n",
    "        price_per_room, base_price = square_trick(base_price,\n",
    "                                                  price_per_room,\n",
    "                                                  num_rooms,\n",
    "                                                  price,\n",
    "                                                  learning_rate=learning_rate)\n",
    "    draw_line(price_per_room, base_price, 'black')\n",
    "    plot_points(features, labels)\n",
    "    print('Price per room:', price_per_room)\n",
    "    print('Base price:', base_price)\n",
    "    return price_per_room, base_price\n",
    "\n",
    "# This line is for the x-axis to appear in the figure\n",
    "plt.ylim(0,500)\n",
    "\n",
    "linear_regression(features, labels, learning_rate = 0.01, epochs = 10000)"
   ]
  },
  {
   "cell_type": "markdown",
   "metadata": {},
   "source": [
    "# Error function"
   ]
  },
  {
   "cell_type": "code",
   "execution_count": 9,
   "metadata": {},
   "outputs": [],
   "source": [
    "def rmse(labels, predictions):\n",
    "    n = len(labels)\n",
    "    differences = np.subtract(labels, predictions)\n",
    "    return np.sqrt(1.0/n * (np.dot(differences, differences)))"
   ]
  },
  {
   "cell_type": "markdown",
   "metadata": {},
   "source": [
    "# Regularization"
   ]
  },
  {
   "cell_type": "code",
   "execution_count": 10,
   "metadata": {},
   "outputs": [
    {
     "name": "stdout",
     "output_type": "stream",
     "text": [
      "Price per room: 50.80146197445225\n",
      "Base price: 100.0144049078708\n"
     ]
    },
    {
     "data": {
      "image/png": "[encoded data removed]",
      "text/plain": [
       "<Figure size 432x288 with 1 Axes>"
      ]
     },
     "metadata": {
      "needs_background": "light"
     },
     "output_type": "display_data"
    },
    {
     "data": {
      "image/png": "[encoded data removed]",
      "text/plain": [
       "<Figure size 432x288 with 1 Axes>"
      ]
     },
     "metadata": {
      "needs_background": "light"
     },
     "output_type": "display_data"
    },
    {
     "name": "stdout",
     "output_type": "stream",
     "text": [
      "Price per room: 50.3577442586154\n",
      "Base price: 100.35067423726296\n"
     ]
    },
    {
     "data": {
      "image/png": "[encoded data removed]",
      "text/plain": [
       "<Figure size 432x288 with 1 Axes>"
      ]
     },
     "metadata": {
      "needs_background": "light"
     },
     "output_type": "display_data"
    },
    {
     "data": {
      "image/png": "[encoded data removed]",
      "text/plain": [
       "<Figure size 432x288 with 1 Axes>"
      ]
     },
     "metadata": {
      "needs_background": "light"
     },
     "output_type": "display_data"
    },
    {
     "name": "stdout",
     "output_type": "stream",
     "text": [
      "Price per room: 41.163062271810354\n",
      "Base price: 134.36229603406667\n"
     ]
    },
    {
     "data": {
      "image/png": "[encoded data removed]",
      "text/plain": [
       "<Figure size 432x288 with 1 Axes>"
      ]
     },
     "metadata": {
      "needs_background": "light"
     },
     "output_type": "display_data"
    },
    {
     "data": {
      "image/png": "[encoded data removed]",
      "text/plain": [
       "<Figure size 432x288 with 1 Axes>"
      ]
     },
     "metadata": {
      "needs_background": "light"
     },
     "output_type": "display_data"
    },
    {
     "data": {
      "text/plain": [
       "(41.163062271810354, 134.36229603406667)"
      ]
     },
     "execution_count": 10,
     "metadata": {},
     "output_type": "execute_result"
    }
   ],
   "source": [
    "def linear_regression(features, labels, learning_rate=0.01, epochs = 1000, l1_reg = 0, l2_reg = 0):\n",
    "    price_per_room = random.random()\n",
    "    base_price = random.random()\n",
    "    errors = []\n",
    "    for i in range(epochs):\n",
    "        predictions = features[0]*price_per_room+base_price\n",
    "        errors.append(rmse(labels, predictions))\n",
    "        # Uncomment any of the following lines to plot \n",
    "        #if i == 1:\n",
    "        #if i <= 10:\n",
    "        #if i <= 50:\n",
    "        #if i > 50:\n",
    "        #if i > 50 and i % (epochs/20) == 0: # only printing 1000 lines\n",
    "        #    draw_line(price_per_room, base_price)\n",
    "        i = random.randint(0, len(features)-1)\n",
    "        num_rooms = features[i]\n",
    "        price = labels[i]\n",
    "#        price_per_room, base_price = simple_trick(base_price,\n",
    "#        price_per_room, base_price = absolute_trick(base_price,\n",
    "        price_per_room, base_price = square_trick(base_price,\n",
    "                                                  price_per_room,\n",
    "                                                  num_rooms,\n",
    "                                                  price,\n",
    "                                                  learning_rate=learning_rate)\n",
    "        price_per_room = (1-l2_reg)*price_per_room\n",
    "        price_per_room -= l1_reg*price_per_room/(np.abs(price_per_room))\n",
    "    draw_line(price_per_room, base_price, 'black')\n",
    "    plot_points(features, labels)\n",
    "    print('Price per room:', price_per_room)\n",
    "    print('Base price:', base_price)\n",
    "    plt.show()\n",
    "    plt.scatter(range(len(errors)), errors)\n",
    "    plt.show()\n",
    "    return price_per_room, base_price\n",
    "linear_regression(features, labels, learning_rate = 0.01, epochs = 10000)\n",
    "linear_regression(features, labels, learning_rate = 0.01, epochs = 10000, l1_reg=0.01)\n",
    "linear_regression(features, labels, learning_rate = 0.01, epochs = 10000, l2_reg=0.01)"
   ]
  },
  {
   "cell_type": "markdown",
   "metadata": {},
   "source": [
    "# Trying higher degree polynomials"
   ]
  },
  {
   "cell_type": "code",
   "execution_count": 11,
   "metadata": {},
   "outputs": [
    {
     "data": {
      "text/html": [
       "<div>\n",
       "<style scoped>\n",
       "    .dataframe tbody tr th:only-of-type {\n",
       "        vertical-align: middle;\n",
       "    }\n",
       "\n",
       "    .dataframe tbody tr th {\n",
       "        vertical-align: top;\n",
       "    }\n",
       "\n",
       "    .dataframe thead th {\n",
       "        text-align: right;\n",
       "    }\n",
       "</style>\n",
       "<table border=\"1\" class=\"dataframe\">\n",
       "  <thead>\n",
       "    <tr style=\"text-align: right;\">\n",
       "      <th></th>\n",
       "      <th>num_rooms</th>\n",
       "      <th>price</th>\n",
       "    </tr>\n",
       "  </thead>\n",
       "  <tbody>\n",
       "    <tr>\n",
       "      <td>0</td>\n",
       "      <td>1</td>\n",
       "      <td>60</td>\n",
       "    </tr>\n",
       "    <tr>\n",
       "      <td>1</td>\n",
       "      <td>2</td>\n",
       "      <td>125</td>\n",
       "    </tr>\n",
       "    <tr>\n",
       "      <td>2</td>\n",
       "      <td>3</td>\n",
       "      <td>170</td>\n",
       "    </tr>\n",
       "    <tr>\n",
       "      <td>3</td>\n",
       "      <td>4</td>\n",
       "      <td>200</td>\n",
       "    </tr>\n",
       "    <tr>\n",
       "      <td>4</td>\n",
       "      <td>5</td>\n",
       "      <td>240</td>\n",
       "    </tr>\n",
       "    <tr>\n",
       "      <td>5</td>\n",
       "      <td>6</td>\n",
       "      <td>260</td>\n",
       "    </tr>\n",
       "    <tr>\n",
       "      <td>6</td>\n",
       "      <td>7</td>\n",
       "      <td>290</td>\n",
       "    </tr>\n",
       "    <tr>\n",
       "      <td>7</td>\n",
       "      <td>8</td>\n",
       "      <td>300</td>\n",
       "    </tr>\n",
       "    <tr>\n",
       "      <td>8</td>\n",
       "      <td>9</td>\n",
       "      <td>310</td>\n",
       "    </tr>\n",
       "    <tr>\n",
       "      <td>9</td>\n",
       "      <td>10</td>\n",
       "      <td>315</td>\n",
       "    </tr>\n",
       "  </tbody>\n",
       "</table>\n",
       "</div>"
      ],
      "text/plain": [
       "   num_rooms  price\n",
       "0          1     60\n",
       "1          2    125\n",
       "2          3    170\n",
       "3          4    200\n",
       "4          5    240\n",
       "5          6    260\n",
       "6          7    290\n",
       "7          8    300\n",
       "8          9    310\n",
       "9         10    315"
      ]
     },
     "execution_count": 11,
     "metadata": {},
     "output_type": "execute_result"
    }
   ],
   "source": [
    "import pandas as pd\n",
    "features = pd.DataFrame({'num_rooms': [1,2,3,4,5,6,7,8,9,10]})\n",
    "labels = pd.DataFrame({'price': [60,125,170,200,240,260,290,300,310,315]})\n",
    "pd.concat([features, labels], axis=1)"
   ]
  },
  {
   "cell_type": "code",
   "execution_count": 12,
   "metadata": {},
   "outputs": [
    {
     "data": {
      "image/png": "[encoded data removed]",
      "text/plain": [
       "<Figure size 432x288 with 1 Axes>"
      ]
     },
     "metadata": {
      "needs_background": "light"
     },
     "output_type": "display_data"
    }
   ],
   "source": [
    "#labels = features.apply(lambda x:-3*x**2+60*x+10)\n",
    "plot_points(features, labels)"
   ]
  },
  {
   "cell_type": "code",
   "execution_count": 13,
   "metadata": {},
   "outputs": [
    {
     "data": {
      "text/html": [
       "<div>\n",
       "<style scoped>\n",
       "    .dataframe tbody tr th:only-of-type {\n",
       "        vertical-align: middle;\n",
       "    }\n",
       "\n",
       "    .dataframe tbody tr th {\n",
       "        vertical-align: top;\n",
       "    }\n",
       "\n",
       "    .dataframe thead th {\n",
       "        text-align: right;\n",
       "    }\n",
       "</style>\n",
       "<table border=\"1\" class=\"dataframe\">\n",
       "  <thead>\n",
       "    <tr style=\"text-align: right;\">\n",
       "      <th></th>\n",
       "      <th>num_rooms</th>\n",
       "      <th>num_rooms_2</th>\n",
       "    </tr>\n",
       "  </thead>\n",
       "  <tbody>\n",
       "    <tr>\n",
       "      <td>0</td>\n",
       "      <td>1</td>\n",
       "      <td>1</td>\n",
       "    </tr>\n",
       "    <tr>\n",
       "      <td>1</td>\n",
       "      <td>2</td>\n",
       "      <td>4</td>\n",
       "    </tr>\n",
       "    <tr>\n",
       "      <td>2</td>\n",
       "      <td>3</td>\n",
       "      <td>9</td>\n",
       "    </tr>\n",
       "    <tr>\n",
       "      <td>3</td>\n",
       "      <td>4</td>\n",
       "      <td>16</td>\n",
       "    </tr>\n",
       "    <tr>\n",
       "      <td>4</td>\n",
       "      <td>5</td>\n",
       "      <td>25</td>\n",
       "    </tr>\n",
       "    <tr>\n",
       "      <td>5</td>\n",
       "      <td>6</td>\n",
       "      <td>36</td>\n",
       "    </tr>\n",
       "    <tr>\n",
       "      <td>6</td>\n",
       "      <td>7</td>\n",
       "      <td>49</td>\n",
       "    </tr>\n",
       "    <tr>\n",
       "      <td>7</td>\n",
       "      <td>8</td>\n",
       "      <td>64</td>\n",
       "    </tr>\n",
       "    <tr>\n",
       "      <td>8</td>\n",
       "      <td>9</td>\n",
       "      <td>81</td>\n",
       "    </tr>\n",
       "    <tr>\n",
       "      <td>9</td>\n",
       "      <td>10</td>\n",
       "      <td>100</td>\n",
       "    </tr>\n",
       "  </tbody>\n",
       "</table>\n",
       "</div>"
      ],
      "text/plain": [
       "   num_rooms  num_rooms_2\n",
       "0          1            1\n",
       "1          2            4\n",
       "2          3            9\n",
       "3          4           16\n",
       "4          5           25\n",
       "5          6           36\n",
       "6          7           49\n",
       "7          8           64\n",
       "8          9           81\n",
       "9         10          100"
      ]
     },
     "execution_count": 13,
     "metadata": {},
     "output_type": "execute_result"
    }
   ],
   "source": [
    "features['num_rooms_2'] = features['num_rooms'].apply(lambda x: x**2)\n",
    "features"
   ]
  },
  {
   "cell_type": "code",
   "execution_count": null,
   "metadata": {},
   "outputs": [],
   "source": []
  }
 ],
 "metadata": {
  "kernelspec": {
   "display_name": "Python 3",
   "language": "python",
   "name": "python3"
  },
  "language_info": {
   "codemirror_mode": {
    "name": "ipython",
    "version": 3
   },
   "file_extension": ".py",
   "mimetype": "text/x-python",
   "name": "python",
   "nbconvert_exporter": "python",
   "pygments_lexer": "ipython3",
   "version": "3.7.6"
  }
 },
 "nbformat": 4,
 "nbformat_minor": 2
}
